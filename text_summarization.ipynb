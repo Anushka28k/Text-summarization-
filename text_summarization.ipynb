{
  "nbformat": 4,
  "nbformat_minor": 0,
  "metadata": {
    "colab": {
      "provenance": []
    },
    "kernelspec": {
      "name": "python3",
      "display_name": "Python 3"
    }
  },
  "cells": [
    {
      "cell_type": "code",
      "metadata": {
        "id": "yQaO3UUXjl64"
      },
      "source": [
        "import spacy\n",
        "from spacy.lang.en.stop_words import STOP_WORDS\n",
        "from string import punctuation"
      ],
      "execution_count": null,
      "outputs": []
    },
    {
      "cell_type": "code",
      "metadata": {
        "id": "Tny158lQ2GXS",
        "colab": {
          "base_uri": "https://localhost:8080/",
          "height": 88
        },
        "outputId": "bb12c76b-f5e5-4f6f-f8f1-fe845d8133b8"
      },
      "source": [
        "text=input(\"enter the text\")\n",
        "print(\"your entered text is\")\n",
        "print(text)"
      ],
      "execution_count": null,
      "outputs": [
        {
          "output_type": "stream",
          "text": [
            "enter the textThe Hindus celebrate Janmashtami for the birth of Sri Krishna. The festival usually occurs in August. Moreover, the Hindus celebrate this festival in the Ashtami of Krishna Paksha. Moreover, Lord Krishna is the most powerful incarnation of Lord Vishnu. It is a joyful festival for the Hindus. Furthermore, the Hindus perform different rituals to please Lord Krishna. This is one of the most joyous celebrations for the Hindus.Lord Krishna Lord Krishna was born on the 8th day of Dark Fortnight in the month of Bhadon. Bhadon is a month in the Hindu calendar. Moreover, he was born around 5,200 years ago approximately. Because he was one of the most powerful Gods. He was born for a special purpose on Earth. Lord Krishna was born to free the world from evil.  As a result, he played an important role in the book of Mahabharata. Also, Lord Krishna preached about good karma and the theory of Bhakti.  Lord Krishna was born in a prison. He was in the clutches if Kansa. But his father Vasudev gave him to his friend Nand to save him. Because he knew that Kansa was evil-minded. Furthermore after getting saved the upbringing of Sri Krishna was in a Gokul family. Sri Krishna after some time became strong. As a result, he was able to kill Kansa.  When I was a child I used to watch many shows on Sri Krishna. As a result, I know many things about him. First of all, Sri Krishna was very fond of eating Makhan. Because of that he always used to steal it from his mothers’ kitchen. Therefore his name was ‘Natkahat Nand Lal’. Sri Krishna was dark-colored. So he was always worried about his color. Moreover, Sri Krishna had a friend named Radha. Radha was of great importance to Krishna. So he always spent time with her. Radha was very beautiful and fair so Lord Krishna always feels color complex.  Get the huge list of more than 500 Essay Topics and Ideas  How is Janmashtami Celebrated? People celebrate Janmashtami in mid-night. Because Lord Krishna was born in the dark. Moreover, people have a special way of celebrating the festival. Since Sri Krishna was fond of eating Makhan people play this sport.The sport is, they tie an earthen pot(matki). The judge of the game ties the matki really high from the ground. Furthermore, a person fills Makhan in the matki. Also, what people do is they build a human pyramid to break the matki. Since the matki is too high they have to build a tall pyramid. As a result, many people have to take part in sport. Moreover, there are other teams too who stop them from breaking the matki. Equal chances are there for both the teams. Each team gets a chance for a particular time period. If the team is not able to do it in time then the other team tries it. This is an interesting sport many people gather to watch this sport.  Furthermore, the celebration is also done in houses. People decorate their houses from outside with lights. Moreover, the temples are full of people. They perform various rituals inside the temple. As a result, we hear the sound of bells and mantras the whole day.\n",
            "your entered text is\n",
            "The Hindus celebrate Janmashtami for the birth of Sri Krishna. The festival usually occurs in August. Moreover, the Hindus celebrate this festival in the Ashtami of Krishna Paksha. Moreover, Lord Krishna is the most powerful incarnation of Lord Vishnu. It is a joyful festival for the Hindus. Furthermore, the Hindus perform different rituals to please Lord Krishna. This is one of the most joyous celebrations for the Hindus.Lord Krishna Lord Krishna was born on the 8th day of Dark Fortnight in the month of Bhadon. Bhadon is a month in the Hindu calendar. Moreover, he was born around 5,200 years ago approximately. Because he was one of the most powerful Gods. He was born for a special purpose on Earth. Lord Krishna was born to free the world from evil.  As a result, he played an important role in the book of Mahabharata. Also, Lord Krishna preached about good karma and the theory of Bhakti.  Lord Krishna was born in a prison. He was in the clutches if Kansa. But his father Vasudev gave him to his friend Nand to save him. Because he knew that Kansa was evil-minded. Furthermore after getting saved the upbringing of Sri Krishna was in a Gokul family. Sri Krishna after some time became strong. As a result, he was able to kill Kansa.  When I was a child I used to watch many shows on Sri Krishna. As a result, I know many things about him. First of all, Sri Krishna was very fond of eating Makhan. Because of that he always used to steal it from his mothers’ kitchen. Therefore his name was ‘Natkahat Nand Lal’. Sri Krishna was dark-colored. So he was always worried about his color. Moreover, Sri Krishna had a friend named Radha. Radha was of great importance to Krishna. So he always spent time with her. Radha was very beautiful and fair so Lord Krishna always feels color complex.  Get the huge list of more than 500 Essay Topics and Ideas  How is Janmashtami Celebrated? People celebrate Janmashtami in mid-night. Because Lord Krishna was born in the dark. Moreover, people have a special way of celebrating the festival. Since Sri Krishna was fond of eating Makhan people play this sport.The sport is, they tie an earthen pot(matki). The judge of the game ties the matki really high from the ground. Furthermore, a person fills Makhan in the matki. Also, what people do is they build a human pyramid to break the matki. Since the matki is too high they have to build a tall pyramid. As a result, many people have to take part in sport. Moreover, there are other teams too who stop them from breaking the matki. Equal chances are there for both the teams. Each team gets a chance for a particular time period. If the team is not able to do it in time then the other team tries it. This is an interesting sport many people gather to watch this sport.  Furthermore, the celebration is also done in houses. People decorate their houses from outside with lights. Moreover, the temples are full of people. They perform various rituals inside the temple. As a result, we hear the sound of bells and mantras the whole day.\n"
          ],
          "name": "stdout"
        }
      ]
    },
    {
      "cell_type": "code",
      "metadata": {
        "id": "-X6bu4G6j0f3",
        "colab": {
          "base_uri": "https://localhost:8080/",
          "height": 1000
        },
        "outputId": "7e542504-3100-4c9c-a9ea-b3e64db792b1"
      },
      "source": [
        "stopwords=list(STOP_WORDS)\n",
        "stopwords"
      ],
      "execution_count": null,
      "outputs": [
        {
          "output_type": "execute_result",
          "data": {
            "text/plain": [
              "['becoming',\n",
              " 'do',\n",
              " 'give',\n",
              " 'hers',\n",
              " 'much',\n",
              " 'latterly',\n",
              " 'name',\n",
              " 'onto',\n",
              " 'throughout',\n",
              " 'how',\n",
              " 'indeed',\n",
              " 'into',\n",
              " 'whoever',\n",
              " 'under',\n",
              " 'it',\n",
              " 'used',\n",
              " 'nine',\n",
              " 'meanwhile',\n",
              " 'everyone',\n",
              " 'its',\n",
              " 'most',\n",
              " 'twenty',\n",
              " 'him',\n",
              " 'mostly',\n",
              " 'just',\n",
              " 'serious',\n",
              " 'fifty',\n",
              " 'make',\n",
              " 'then',\n",
              " 'up',\n",
              " 'well',\n",
              " 'become',\n",
              " 'might',\n",
              " 'sometimes',\n",
              " 'sometime',\n",
              " 'thru',\n",
              " 'mine',\n",
              " 'am',\n",
              " 'on',\n",
              " 'here',\n",
              " 'fifteen',\n",
              " 'may',\n",
              " 'seems',\n",
              " 'some',\n",
              " 'made',\n",
              " 'nevertheless',\n",
              " 'thereby',\n",
              " 'have',\n",
              " 'also',\n",
              " 'behind',\n",
              " 'six',\n",
              " 'being',\n",
              " 'whence',\n",
              " 'your',\n",
              " 'rather',\n",
              " 'i',\n",
              " 'his',\n",
              " 'four',\n",
              " 'seem',\n",
              " '’re',\n",
              " 'even',\n",
              " 'nowhere',\n",
              " 'of',\n",
              " 'keep',\n",
              " 'formerly',\n",
              " 'side',\n",
              " 'their',\n",
              " 'enough',\n",
              " 'whenever',\n",
              " 'themselves',\n",
              " 'thus',\n",
              " 'such',\n",
              " 'towards',\n",
              " 'please',\n",
              " 'alone',\n",
              " 'first',\n",
              " 'myself',\n",
              " 'in',\n",
              " 'amount',\n",
              " 'anywhere',\n",
              " 'me',\n",
              " 'too',\n",
              " 'this',\n",
              " 'unless',\n",
              " 'whereby',\n",
              " \"n't\",\n",
              " 'anyhow',\n",
              " 'from',\n",
              " 'another',\n",
              " 'around',\n",
              " 'regarding',\n",
              " 'out',\n",
              " 'almost',\n",
              " 'therein',\n",
              " 'while',\n",
              " '’d',\n",
              " 'whereas',\n",
              " 'due',\n",
              " 'can',\n",
              " 'front',\n",
              " 'further',\n",
              " 'these',\n",
              " 'herself',\n",
              " 'often',\n",
              " 'something',\n",
              " 'above',\n",
              " 'what',\n",
              " 'whatever',\n",
              " 'go',\n",
              " 'which',\n",
              " 'ever',\n",
              " 'full',\n",
              " 'yourselves',\n",
              " 'hundred',\n",
              " 'moreover',\n",
              " 'to',\n",
              " 'whereafter',\n",
              " 'twelve',\n",
              " 'very',\n",
              " 'although',\n",
              " 'for',\n",
              " 'say',\n",
              " 'that',\n",
              " 'thereafter',\n",
              " 'still',\n",
              " 'either',\n",
              " 'be',\n",
              " 'somewhere',\n",
              " 'thereupon',\n",
              " 'there',\n",
              " 'whether',\n",
              " 'nobody',\n",
              " 'along',\n",
              " 'latter',\n",
              " 'whereupon',\n",
              " 'down',\n",
              " 'only',\n",
              " 'wherever',\n",
              " \"'ve\",\n",
              " 'seemed',\n",
              " 'hereafter',\n",
              " 'really',\n",
              " 'empty',\n",
              " 'put',\n",
              " 'whole',\n",
              " 'call',\n",
              " 'both',\n",
              " 'get',\n",
              " 'take',\n",
              " 'own',\n",
              " 'must',\n",
              " 'a',\n",
              " 'all',\n",
              " 'with',\n",
              " '’s',\n",
              " 'who',\n",
              " 'least',\n",
              " 'himself',\n",
              " 'various',\n",
              " 'beyond',\n",
              " 'hereupon',\n",
              " 'afterwards',\n",
              " 'if',\n",
              " 'anything',\n",
              " 'nothing',\n",
              " 'always',\n",
              " 'our',\n",
              " 'you',\n",
              " 'eleven',\n",
              " 'ourselves',\n",
              " 'together',\n",
              " 'everything',\n",
              " 'n‘t',\n",
              " 'former',\n",
              " 'yourself',\n",
              " 'eight',\n",
              " 'done',\n",
              " 'would',\n",
              " 'sixty',\n",
              " 'so',\n",
              " 'after',\n",
              " 'everywhere',\n",
              " 'she',\n",
              " 'move',\n",
              " 'ten',\n",
              " 'and',\n",
              " 'see',\n",
              " 'three',\n",
              " 'yours',\n",
              " 'perhaps',\n",
              " 'could',\n",
              " 'is',\n",
              " 'by',\n",
              " 'they',\n",
              " 'else',\n",
              " 'ours',\n",
              " 'those',\n",
              " 'herein',\n",
              " '‘re',\n",
              " 'cannot',\n",
              " '‘ve',\n",
              " 'not',\n",
              " 'n’t',\n",
              " 'doing',\n",
              " 'never',\n",
              " 'next',\n",
              " 'other',\n",
              " 'did',\n",
              " 'noone',\n",
              " 'several',\n",
              " 'someone',\n",
              " 'elsewhere',\n",
              " 'using',\n",
              " 'were',\n",
              " 'when',\n",
              " 'quite',\n",
              " 'amongst',\n",
              " 'them',\n",
              " 'anyway',\n",
              " 'same',\n",
              " 'before',\n",
              " \"'s\",\n",
              " 'again',\n",
              " 'at',\n",
              " 'forty',\n",
              " \"'re\",\n",
              " '’m',\n",
              " 'since',\n",
              " 'until',\n",
              " 'where',\n",
              " 'becomes',\n",
              " 'two',\n",
              " '‘d',\n",
              " 'hence',\n",
              " 'now',\n",
              " '’ve',\n",
              " 'across',\n",
              " 'per',\n",
              " 'an',\n",
              " 'during',\n",
              " 'once',\n",
              " '‘s',\n",
              " 'nor',\n",
              " 'therefore',\n",
              " 'each',\n",
              " 'anyone',\n",
              " 'had',\n",
              " 'does',\n",
              " 'should',\n",
              " 'but',\n",
              " 'few',\n",
              " 'otherwise',\n",
              " 'over',\n",
              " 'the',\n",
              " 'though',\n",
              " 'already',\n",
              " 'or',\n",
              " 'no',\n",
              " 'seeming',\n",
              " 'through',\n",
              " 'whom',\n",
              " 'whose',\n",
              " 'about',\n",
              " 'because',\n",
              " 'us',\n",
              " 'whither',\n",
              " '‘ll',\n",
              " 'wherein',\n",
              " '‘m',\n",
              " 'he',\n",
              " 'below',\n",
              " 'others',\n",
              " 'beforehand',\n",
              " 'within',\n",
              " 'last',\n",
              " 'yet',\n",
              " 'we',\n",
              " 'via',\n",
              " 'without',\n",
              " 'as',\n",
              " 'between',\n",
              " 'beside',\n",
              " 'are',\n",
              " 'any',\n",
              " 'besides',\n",
              " 'bottom',\n",
              " 'more',\n",
              " 'namely',\n",
              " 'somehow',\n",
              " 'thence',\n",
              " 'will',\n",
              " 'top',\n",
              " 'except',\n",
              " 'among',\n",
              " 'every',\n",
              " 'was',\n",
              " 'hereby',\n",
              " 'than',\n",
              " 're',\n",
              " \"'m\",\n",
              " 'many',\n",
              " 'ca',\n",
              " 'upon',\n",
              " 'off',\n",
              " 'her',\n",
              " 'itself',\n",
              " 'third',\n",
              " '’ll',\n",
              " 'back',\n",
              " 'less',\n",
              " 'why',\n",
              " 'show',\n",
              " 'been',\n",
              " \"'d\",\n",
              " 'five',\n",
              " 'has',\n",
              " 'neither',\n",
              " 'none',\n",
              " 'toward',\n",
              " 'against',\n",
              " 'however',\n",
              " 'part',\n",
              " \"'ll\",\n",
              " 'one',\n",
              " 'my',\n",
              " 'became']"
            ]
          },
          "metadata": {
            "tags": []
          },
          "execution_count": 2
        }
      ]
    },
    {
      "cell_type": "code",
      "metadata": {
        "id": "ObdebAVIj6z4"
      },
      "source": [
        "nlp= spacy.load('en_core_web_sm')"
      ],
      "execution_count": null,
      "outputs": []
    },
    {
      "cell_type": "code",
      "metadata": {
        "id": "QYUuUdB9kCG1"
      },
      "source": [
        "doc=nlp(text)"
      ],
      "execution_count": null,
      "outputs": []
    },
    {
      "cell_type": "code",
      "metadata": {
        "id": "sbj7Aws33_gO"
      },
      "source": [
        "#tokenization done above"
      ],
      "execution_count": null,
      "outputs": []
    },
    {
      "cell_type": "code",
      "metadata": {
        "id": "sbzTbcUZ4H0W",
        "colab": {
          "base_uri": "https://localhost:8080/",
          "height": 54
        },
        "outputId": "c2b273f6-091c-4a3b-9ada-2c3c6f4d8f85"
      },
      "source": [
        "tokens=[token.text for token in doc]\n",
        "print(tokens)"
      ],
      "execution_count": null,
      "outputs": [
        {
          "output_type": "stream",
          "text": [
            "['The', 'Hindus', 'celebrate', 'Janmashtami', 'for', 'the', 'birth', 'of', 'Sri', 'Krishna', '.', 'The', 'festival', 'usually', 'occurs', 'in', 'August', '.', 'Moreover', ',', 'the', 'Hindus', 'celebrate', 'this', 'festival', 'in', 'the', 'Ashtami', 'of', 'Krishna', 'Paksha', '.', 'Moreover', ',', 'Lord', 'Krishna', 'is', 'the', 'most', 'powerful', 'incarnation', 'of', 'Lord', 'Vishnu', '.', 'It', 'is', 'a', 'joyful', 'festival', 'for', 'the', 'Hindus', '.', 'Furthermore', ',', 'the', 'Hindus', 'perform', 'different', 'rituals', 'to', 'please', 'Lord', 'Krishna', '.', 'This', 'is', 'one', 'of', 'the', 'most', 'joyous', 'celebrations', 'for', 'the', 'Hindus', '.', 'Lord', 'Krishna', 'Lord', 'Krishna', 'was', 'born', 'on', 'the', '8th', 'day', 'of', 'Dark', 'Fortnight', 'in', 'the', 'month', 'of', 'Bhadon', '.', 'Bhadon', 'is', 'a', 'month', 'in', 'the', 'Hindu', 'calendar', '.', 'Moreover', ',', 'he', 'was', 'born', 'around', '5,200', 'years', 'ago', 'approximately', '.', 'Because', 'he', 'was', 'one', 'of', 'the', 'most', 'powerful', 'Gods', '.', 'He', 'was', 'born', 'for', 'a', 'special', 'purpose', 'on', 'Earth', '.', 'Lord', 'Krishna', 'was', 'born', 'to', 'free', 'the', 'world', 'from', 'evil', '.', ' ', 'As', 'a', 'result', ',', 'he', 'played', 'an', 'important', 'role', 'in', 'the', 'book', 'of', 'Mahabharata', '.', 'Also', ',', 'Lord', 'Krishna', 'preached', 'about', 'good', 'karma', 'and', 'the', 'theory', 'of', 'Bhakti', '.', ' ', 'Lord', 'Krishna', 'was', 'born', 'in', 'a', 'prison', '.', 'He', 'was', 'in', 'the', 'clutches', 'if', 'Kansa', '.', 'But', 'his', 'father', 'Vasudev', 'gave', 'him', 'to', 'his', 'friend', 'Nand', 'to', 'save', 'him', '.', 'Because', 'he', 'knew', 'that', 'Kansa', 'was', 'evil', '-', 'minded', '.', 'Furthermore', 'after', 'getting', 'saved', 'the', 'upbringing', 'of', 'Sri', 'Krishna', 'was', 'in', 'a', 'Gokul', 'family', '.', 'Sri', 'Krishna', 'after', 'some', 'time', 'became', 'strong', '.', 'As', 'a', 'result', ',', 'he', 'was', 'able', 'to', 'kill', 'Kansa', '.', ' ', 'When', 'I', 'was', 'a', 'child', 'I', 'used', 'to', 'watch', 'many', 'shows', 'on', 'Sri', 'Krishna', '.', 'As', 'a', 'result', ',', 'I', 'know', 'many', 'things', 'about', 'him', '.', 'First', 'of', 'all', ',', 'Sri', 'Krishna', 'was', 'very', 'fond', 'of', 'eating', 'Makhan', '.', 'Because', 'of', 'that', 'he', 'always', 'used', 'to', 'steal', 'it', 'from', 'his', 'mothers', '’', 'kitchen', '.', 'Therefore', 'his', 'name', 'was', '‘', 'Natkahat', 'Nand', 'Lal', '’', '.', 'Sri', 'Krishna', 'was', 'dark', '-', 'colored', '.', 'So', 'he', 'was', 'always', 'worried', 'about', 'his', 'color', '.', 'Moreover', ',', 'Sri', 'Krishna', 'had', 'a', 'friend', 'named', 'Radha', '.', 'Radha', 'was', 'of', 'great', 'importance', 'to', 'Krishna', '.', 'So', 'he', 'always', 'spent', 'time', 'with', 'her', '.', 'Radha', 'was', 'very', 'beautiful', 'and', 'fair', 'so', 'Lord', 'Krishna', 'always', 'feels', 'color', 'complex', '.', ' ', 'Get', 'the', 'huge', 'list', 'of', 'more', 'than', '500', 'Essay', 'Topics', 'and', 'Ideas', ' ', 'How', 'is', 'Janmashtami', 'Celebrated', '?', 'People', 'celebrate', 'Janmashtami', 'in', 'mid', '-', 'night', '.', 'Because', 'Lord', 'Krishna', 'was', 'born', 'in', 'the', 'dark', '.', 'Moreover', ',', 'people', 'have', 'a', 'special', 'way', 'of', 'celebrating', 'the', 'festival', '.', 'Since', 'Sri', 'Krishna', 'was', 'fond', 'of', 'eating', 'Makhan', 'people', 'play', 'this', 'sport', '.', 'The', 'sport', 'is', ',', 'they', 'tie', 'an', 'earthen', 'pot(matki', ')', '.', 'The', 'judge', 'of', 'the', 'game', 'ties', 'the', 'matki', 'really', 'high', 'from', 'the', 'ground', '.', 'Furthermore', ',', 'a', 'person', 'fills', 'Makhan', 'in', 'the', 'matki', '.', 'Also', ',', 'what', 'people', 'do', 'is', 'they', 'build', 'a', 'human', 'pyramid', 'to', 'break', 'the', 'matki', '.', 'Since', 'the', 'matki', 'is', 'too', 'high', 'they', 'have', 'to', 'build', 'a', 'tall', 'pyramid', '.', 'As', 'a', 'result', ',', 'many', 'people', 'have', 'to', 'take', 'part', 'in', 'sport', '.', 'Moreover', ',', 'there', 'are', 'other', 'teams', 'too', 'who', 'stop', 'them', 'from', 'breaking', 'the', 'matki', '.', 'Equal', 'chances', 'are', 'there', 'for', 'both', 'the', 'teams', '.', 'Each', 'team', 'gets', 'a', 'chance', 'for', 'a', 'particular', 'time', 'period', '.', 'If', 'the', 'team', 'is', 'not', 'able', 'to', 'do', 'it', 'in', 'time', 'then', 'the', 'other', 'team', 'tries', 'it', '.', 'This', 'is', 'an', 'interesting', 'sport', 'many', 'people', 'gather', 'to', 'watch', 'this', 'sport', '.', ' ', 'Furthermore', ',', 'the', 'celebration', 'is', 'also', 'done', 'in', 'houses', '.', 'People', 'decorate', 'their', 'houses', 'from', 'outside', 'with', 'lights', '.', 'Moreover', ',', 'the', 'temples', 'are', 'full', 'of', 'people', '.', 'They', 'perform', 'various', 'rituals', 'inside', 'the', 'temple', '.', 'As', 'a', 'result', ',', 'we', 'hear', 'the', 'sound', 'of', 'bells', 'and', 'mantras', 'the', 'whole', 'day', '.']\n"
          ],
          "name": "stdout"
        }
      ]
    },
    {
      "cell_type": "code",
      "metadata": {
        "id": "0t_sirpd5LB0",
        "colab": {
          "base_uri": "https://localhost:8080/",
          "height": 35
        },
        "outputId": "a8c929bd-1410-4fa1-e262-2710f8f1fac2"
      },
      "source": [
        "punctuation"
      ],
      "execution_count": null,
      "outputs": [
        {
          "output_type": "execute_result",
          "data": {
            "application/vnd.google.colaboratory.intrinsic+json": {
              "type": "string"
            },
            "text/plain": [
              "'!\"#$%&\\'()*+,-./:;<=>?@[\\\\]^_`{|}~'"
            ]
          },
          "metadata": {
            "tags": []
          },
          "execution_count": 8
        }
      ]
    },
    {
      "cell_type": "code",
      "metadata": {
        "id": "1gbDWCaD5eGM"
      },
      "source": [
        "#the above para has puctuations aswell which we want to ignore"
      ],
      "execution_count": null,
      "outputs": []
    },
    {
      "cell_type": "code",
      "metadata": {
        "id": "WmFWSbGK5nCc"
      },
      "source": [
        "punctuation=punctuation+'/n'\n"
      ],
      "execution_count": null,
      "outputs": []
    },
    {
      "cell_type": "code",
      "metadata": {
        "id": "V1Q4b9Pt6tRP",
        "colab": {
          "base_uri": "https://localhost:8080/",
          "height": 35
        },
        "outputId": "d8467ffa-c3c6-4154-8ebd-0fd06a01e4fa"
      },
      "source": [
        "punctuation"
      ],
      "execution_count": null,
      "outputs": [
        {
          "output_type": "execute_result",
          "data": {
            "application/vnd.google.colaboratory.intrinsic+json": {
              "type": "string"
            },
            "text/plain": [
              "'!\"#$%&\\'()*+,-./:;<=>?@[\\\\]^_`{|}~/n'"
            ]
          },
          "metadata": {
            "tags": []
          },
          "execution_count": 11
        }
      ]
    },
    {
      "cell_type": "code",
      "metadata": {
        "id": "jUkr4R6V6v29"
      },
      "source": [
        "word_frequencies={}\n",
        "for word in doc:\n",
        "  if word.text.lower() not in stopwords:\n",
        "    if word.text.lower() not in punctuation:\n",
        "      if word.text not in word_frequencies.keys():\n",
        "        word_frequencies[word.text]=1\n",
        "      else:\n",
        "         word_frequencies[word.text] += 1"
      ],
      "execution_count": null,
      "outputs": []
    },
    {
      "cell_type": "code",
      "metadata": {
        "id": "66S_E0Ns-gl5",
        "colab": {
          "base_uri": "https://localhost:8080/",
          "height": 1000
        },
        "outputId": "c24e2b79-92d5-4f43-c4d4-a30189e1f80e"
      },
      "source": [
        "word_frequencies"
      ],
      "execution_count": null,
      "outputs": [
        {
          "output_type": "execute_result",
          "data": {
            "text/plain": [
              "{' ': 6,\n",
              " '5,200': 1,\n",
              " '500': 1,\n",
              " '8th': 1,\n",
              " 'Ashtami': 1,\n",
              " 'August': 1,\n",
              " 'Bhadon': 2,\n",
              " 'Bhakti': 1,\n",
              " 'Celebrated': 1,\n",
              " 'Dark': 1,\n",
              " 'Earth': 1,\n",
              " 'Equal': 1,\n",
              " 'Essay': 1,\n",
              " 'Fortnight': 1,\n",
              " 'Furthermore': 4,\n",
              " 'Gods': 1,\n",
              " 'Gokul': 1,\n",
              " 'Hindu': 1,\n",
              " 'Hindus': 5,\n",
              " 'Ideas': 1,\n",
              " 'Janmashtami': 3,\n",
              " 'Kansa': 3,\n",
              " 'Krishna': 19,\n",
              " 'Lal': 1,\n",
              " 'Lord': 10,\n",
              " 'Mahabharata': 1,\n",
              " 'Makhan': 3,\n",
              " 'Nand': 2,\n",
              " 'Natkahat': 1,\n",
              " 'Paksha': 1,\n",
              " 'People': 2,\n",
              " 'Radha': 3,\n",
              " 'Sri': 8,\n",
              " 'Topics': 1,\n",
              " 'Vasudev': 1,\n",
              " 'Vishnu': 1,\n",
              " 'able': 2,\n",
              " 'ago': 1,\n",
              " 'approximately': 1,\n",
              " 'beautiful': 1,\n",
              " 'bells': 1,\n",
              " 'birth': 1,\n",
              " 'book': 1,\n",
              " 'born': 6,\n",
              " 'break': 1,\n",
              " 'breaking': 1,\n",
              " 'build': 2,\n",
              " 'calendar': 1,\n",
              " 'celebrate': 3,\n",
              " 'celebrating': 1,\n",
              " 'celebration': 1,\n",
              " 'celebrations': 1,\n",
              " 'chance': 1,\n",
              " 'chances': 1,\n",
              " 'child': 1,\n",
              " 'clutches': 1,\n",
              " 'color': 2,\n",
              " 'colored': 1,\n",
              " 'complex': 1,\n",
              " 'dark': 2,\n",
              " 'day': 2,\n",
              " 'decorate': 1,\n",
              " 'different': 1,\n",
              " 'earthen': 1,\n",
              " 'eating': 2,\n",
              " 'evil': 2,\n",
              " 'fair': 1,\n",
              " 'family': 1,\n",
              " 'father': 1,\n",
              " 'feels': 1,\n",
              " 'festival': 4,\n",
              " 'fills': 1,\n",
              " 'fond': 2,\n",
              " 'free': 1,\n",
              " 'friend': 2,\n",
              " 'game': 1,\n",
              " 'gather': 1,\n",
              " 'gave': 1,\n",
              " 'gets': 1,\n",
              " 'getting': 1,\n",
              " 'good': 1,\n",
              " 'great': 1,\n",
              " 'ground': 1,\n",
              " 'hear': 1,\n",
              " 'high': 2,\n",
              " 'houses': 2,\n",
              " 'huge': 1,\n",
              " 'human': 1,\n",
              " 'importance': 1,\n",
              " 'important': 1,\n",
              " 'incarnation': 1,\n",
              " 'inside': 1,\n",
              " 'interesting': 1,\n",
              " 'joyful': 1,\n",
              " 'joyous': 1,\n",
              " 'judge': 1,\n",
              " 'karma': 1,\n",
              " 'kill': 1,\n",
              " 'kitchen': 1,\n",
              " 'knew': 1,\n",
              " 'know': 1,\n",
              " 'lights': 1,\n",
              " 'list': 1,\n",
              " 'mantras': 1,\n",
              " 'matki': 5,\n",
              " 'mid': 1,\n",
              " 'minded': 1,\n",
              " 'month': 2,\n",
              " 'mothers': 1,\n",
              " 'named': 1,\n",
              " 'night': 1,\n",
              " 'occurs': 1,\n",
              " 'outside': 1,\n",
              " 'particular': 1,\n",
              " 'people': 6,\n",
              " 'perform': 2,\n",
              " 'period': 1,\n",
              " 'person': 1,\n",
              " 'play': 1,\n",
              " 'played': 1,\n",
              " 'pot(matki': 1,\n",
              " 'powerful': 2,\n",
              " 'preached': 1,\n",
              " 'prison': 1,\n",
              " 'purpose': 1,\n",
              " 'pyramid': 2,\n",
              " 'result': 5,\n",
              " 'rituals': 2,\n",
              " 'role': 1,\n",
              " 'save': 1,\n",
              " 'saved': 1,\n",
              " 'shows': 1,\n",
              " 'sound': 1,\n",
              " 'special': 2,\n",
              " 'spent': 1,\n",
              " 'sport': 5,\n",
              " 'steal': 1,\n",
              " 'stop': 1,\n",
              " 'strong': 1,\n",
              " 'tall': 1,\n",
              " 'team': 3,\n",
              " 'teams': 2,\n",
              " 'temple': 1,\n",
              " 'temples': 1,\n",
              " 'theory': 1,\n",
              " 'things': 1,\n",
              " 'tie': 1,\n",
              " 'ties': 1,\n",
              " 'time': 4,\n",
              " 'tries': 1,\n",
              " 'upbringing': 1,\n",
              " 'usually': 1,\n",
              " 'watch': 2,\n",
              " 'way': 1,\n",
              " 'world': 1,\n",
              " 'worried': 1,\n",
              " 'years': 1,\n",
              " '‘': 1,\n",
              " '’': 2}"
            ]
          },
          "metadata": {
            "tags": []
          },
          "execution_count": 13
        }
      ]
    },
    {
      "cell_type": "code",
      "metadata": {
        "id": "bkFD3RhM-jTd"
      },
      "source": [
        "# ek punctuation aisi hai jo 5 baar aa rhi hai isliye 5 baki ek baar hai toh isliye ek krishna word has occured 19 times"
      ],
      "execution_count": null,
      "outputs": []
    },
    {
      "cell_type": "code",
      "metadata": {
        "id": "AEzonCQK-xcO",
        "colab": {
          "base_uri": "https://localhost:8080/",
          "height": 54
        },
        "outputId": "89846bff-0363-4df3-d134-495b8df0c373"
      },
      "source": [
        "print(word_frequencies)"
      ],
      "execution_count": null,
      "outputs": [
        {
          "output_type": "stream",
          "text": [
            "{'Hindus': 5, 'celebrate': 3, 'Janmashtami': 3, 'birth': 1, 'Sri': 8, 'Krishna': 19, 'festival': 4, 'usually': 1, 'occurs': 1, 'August': 1, 'Ashtami': 1, 'Paksha': 1, 'Lord': 10, 'powerful': 2, 'incarnation': 1, 'Vishnu': 1, 'joyful': 1, 'Furthermore': 4, 'perform': 2, 'different': 1, 'rituals': 2, 'joyous': 1, 'celebrations': 1, 'born': 6, '8th': 1, 'day': 2, 'Dark': 1, 'Fortnight': 1, 'month': 2, 'Bhadon': 2, 'Hindu': 1, 'calendar': 1, '5,200': 1, 'years': 1, 'ago': 1, 'approximately': 1, 'Gods': 1, 'special': 2, 'purpose': 1, 'Earth': 1, 'free': 1, 'world': 1, 'evil': 2, ' ': 6, 'result': 5, 'played': 1, 'important': 1, 'role': 1, 'book': 1, 'Mahabharata': 1, 'preached': 1, 'good': 1, 'karma': 1, 'theory': 1, 'Bhakti': 1, 'prison': 1, 'clutches': 1, 'Kansa': 3, 'father': 1, 'Vasudev': 1, 'gave': 1, 'friend': 2, 'Nand': 2, 'save': 1, 'knew': 1, 'minded': 1, 'getting': 1, 'saved': 1, 'upbringing': 1, 'Gokul': 1, 'family': 1, 'time': 4, 'strong': 1, 'able': 2, 'kill': 1, 'child': 1, 'watch': 2, 'shows': 1, 'know': 1, 'things': 1, 'fond': 2, 'eating': 2, 'Makhan': 3, 'steal': 1, 'mothers': 1, '’': 2, 'kitchen': 1, '‘': 1, 'Natkahat': 1, 'Lal': 1, 'dark': 2, 'colored': 1, 'worried': 1, 'color': 2, 'named': 1, 'Radha': 3, 'great': 1, 'importance': 1, 'spent': 1, 'beautiful': 1, 'fair': 1, 'feels': 1, 'complex': 1, 'huge': 1, 'list': 1, '500': 1, 'Essay': 1, 'Topics': 1, 'Ideas': 1, 'Celebrated': 1, 'People': 2, 'mid': 1, 'night': 1, 'people': 6, 'way': 1, 'celebrating': 1, 'play': 1, 'sport': 5, 'tie': 1, 'earthen': 1, 'pot(matki': 1, 'judge': 1, 'game': 1, 'ties': 1, 'matki': 5, 'high': 2, 'ground': 1, 'person': 1, 'fills': 1, 'build': 2, 'human': 1, 'pyramid': 2, 'break': 1, 'tall': 1, 'teams': 2, 'stop': 1, 'breaking': 1, 'Equal': 1, 'chances': 1, 'team': 3, 'gets': 1, 'chance': 1, 'particular': 1, 'period': 1, 'tries': 1, 'interesting': 1, 'gather': 1, 'celebration': 1, 'houses': 2, 'decorate': 1, 'outside': 1, 'lights': 1, 'temples': 1, 'inside': 1, 'temple': 1, 'hear': 1, 'sound': 1, 'bells': 1, 'mantras': 1}\n"
          ],
          "name": "stdout"
        }
      ]
    },
    {
      "cell_type": "code",
      "metadata": {
        "id": "W84aEVm9_OP_"
      },
      "source": [
        "max_frequencies=max(word_frequencies.values())"
      ],
      "execution_count": null,
      "outputs": []
    },
    {
      "cell_type": "code",
      "metadata": {
        "id": "qcbFppcs_tIC",
        "colab": {
          "base_uri": "https://localhost:8080/",
          "height": 34
        },
        "outputId": "859a2f24-be20-4538-c137-74915758bfc4"
      },
      "source": [
        "max_frequencies"
      ],
      "execution_count": null,
      "outputs": [
        {
          "output_type": "execute_result",
          "data": {
            "text/plain": [
              "19"
            ]
          },
          "metadata": {
            "tags": []
          },
          "execution_count": 19
        }
      ]
    },
    {
      "cell_type": "code",
      "metadata": {
        "id": "aAF4tSV0_95X"
      },
      "source": [
        "# to acieve a normalized frequency we will divide this whole data set by 19"
      ],
      "execution_count": null,
      "outputs": []
    },
    {
      "cell_type": "code",
      "metadata": {
        "id": "JIYGpBqzAIjH"
      },
      "source": [
        "for word in word_frequencies.keys():\n",
        "  word_frequencies[word]=word_frequencies[word]/max_frequencies"
      ],
      "execution_count": null,
      "outputs": []
    },
    {
      "cell_type": "code",
      "metadata": {
        "id": "wj4DsAT9B2_S",
        "colab": {
          "base_uri": "https://localhost:8080/",
          "height": 54
        },
        "outputId": "9fb77be7-60cb-4db1-ad0e-a83f7f9a3d54"
      },
      "source": [
        "print(word_frequencies)"
      ],
      "execution_count": null,
      "outputs": [
        {
          "output_type": "stream",
          "text": [
            "{'Hindus': 0.2631578947368421, 'celebrate': 0.15789473684210525, 'Janmashtami': 0.15789473684210525, 'birth': 0.05263157894736842, 'Sri': 0.42105263157894735, 'Krishna': 1.0, 'festival': 0.21052631578947367, 'usually': 0.05263157894736842, 'occurs': 0.05263157894736842, 'August': 0.05263157894736842, 'Ashtami': 0.05263157894736842, 'Paksha': 0.05263157894736842, 'Lord': 0.5263157894736842, 'powerful': 0.10526315789473684, 'incarnation': 0.05263157894736842, 'Vishnu': 0.05263157894736842, 'joyful': 0.05263157894736842, 'Furthermore': 0.21052631578947367, 'perform': 0.10526315789473684, 'different': 0.05263157894736842, 'rituals': 0.10526315789473684, 'joyous': 0.05263157894736842, 'celebrations': 0.05263157894736842, 'born': 0.3157894736842105, '8th': 0.05263157894736842, 'day': 0.10526315789473684, 'Dark': 0.05263157894736842, 'Fortnight': 0.05263157894736842, 'month': 0.10526315789473684, 'Bhadon': 0.10526315789473684, 'Hindu': 0.05263157894736842, 'calendar': 0.05263157894736842, '5,200': 0.05263157894736842, 'years': 0.05263157894736842, 'ago': 0.05263157894736842, 'approximately': 0.05263157894736842, 'Gods': 0.05263157894736842, 'special': 0.10526315789473684, 'purpose': 0.05263157894736842, 'Earth': 0.05263157894736842, 'free': 0.05263157894736842, 'world': 0.05263157894736842, 'evil': 0.10526315789473684, ' ': 0.3157894736842105, 'result': 0.2631578947368421, 'played': 0.05263157894736842, 'important': 0.05263157894736842, 'role': 0.05263157894736842, 'book': 0.05263157894736842, 'Mahabharata': 0.05263157894736842, 'preached': 0.05263157894736842, 'good': 0.05263157894736842, 'karma': 0.05263157894736842, 'theory': 0.05263157894736842, 'Bhakti': 0.05263157894736842, 'prison': 0.05263157894736842, 'clutches': 0.05263157894736842, 'Kansa': 0.15789473684210525, 'father': 0.05263157894736842, 'Vasudev': 0.05263157894736842, 'gave': 0.05263157894736842, 'friend': 0.10526315789473684, 'Nand': 0.10526315789473684, 'save': 0.05263157894736842, 'knew': 0.05263157894736842, 'minded': 0.05263157894736842, 'getting': 0.05263157894736842, 'saved': 0.05263157894736842, 'upbringing': 0.05263157894736842, 'Gokul': 0.05263157894736842, 'family': 0.05263157894736842, 'time': 0.21052631578947367, 'strong': 0.05263157894736842, 'able': 0.10526315789473684, 'kill': 0.05263157894736842, 'child': 0.05263157894736842, 'watch': 0.10526315789473684, 'shows': 0.05263157894736842, 'know': 0.05263157894736842, 'things': 0.05263157894736842, 'fond': 0.10526315789473684, 'eating': 0.10526315789473684, 'Makhan': 0.15789473684210525, 'steal': 0.05263157894736842, 'mothers': 0.05263157894736842, '’': 0.10526315789473684, 'kitchen': 0.05263157894736842, '‘': 0.05263157894736842, 'Natkahat': 0.05263157894736842, 'Lal': 0.05263157894736842, 'dark': 0.10526315789473684, 'colored': 0.05263157894736842, 'worried': 0.05263157894736842, 'color': 0.10526315789473684, 'named': 0.05263157894736842, 'Radha': 0.15789473684210525, 'great': 0.05263157894736842, 'importance': 0.05263157894736842, 'spent': 0.05263157894736842, 'beautiful': 0.05263157894736842, 'fair': 0.05263157894736842, 'feels': 0.05263157894736842, 'complex': 0.05263157894736842, 'huge': 0.05263157894736842, 'list': 0.05263157894736842, '500': 0.05263157894736842, 'Essay': 0.05263157894736842, 'Topics': 0.05263157894736842, 'Ideas': 0.05263157894736842, 'Celebrated': 0.05263157894736842, 'People': 0.10526315789473684, 'mid': 0.05263157894736842, 'night': 0.05263157894736842, 'people': 0.3157894736842105, 'way': 0.05263157894736842, 'celebrating': 0.05263157894736842, 'play': 0.05263157894736842, 'sport': 0.2631578947368421, 'tie': 0.05263157894736842, 'earthen': 0.05263157894736842, 'pot(matki': 0.05263157894736842, 'judge': 0.05263157894736842, 'game': 0.05263157894736842, 'ties': 0.05263157894736842, 'matki': 0.2631578947368421, 'high': 0.10526315789473684, 'ground': 0.05263157894736842, 'person': 0.05263157894736842, 'fills': 0.05263157894736842, 'build': 0.10526315789473684, 'human': 0.05263157894736842, 'pyramid': 0.10526315789473684, 'break': 0.05263157894736842, 'tall': 0.05263157894736842, 'teams': 0.10526315789473684, 'stop': 0.05263157894736842, 'breaking': 0.05263157894736842, 'Equal': 0.05263157894736842, 'chances': 0.05263157894736842, 'team': 0.15789473684210525, 'gets': 0.05263157894736842, 'chance': 0.05263157894736842, 'particular': 0.05263157894736842, 'period': 0.05263157894736842, 'tries': 0.05263157894736842, 'interesting': 0.05263157894736842, 'gather': 0.05263157894736842, 'celebration': 0.05263157894736842, 'houses': 0.10526315789473684, 'decorate': 0.05263157894736842, 'outside': 0.05263157894736842, 'lights': 0.05263157894736842, 'temples': 0.05263157894736842, 'inside': 0.05263157894736842, 'temple': 0.05263157894736842, 'hear': 0.05263157894736842, 'sound': 0.05263157894736842, 'bells': 0.05263157894736842, 'mantras': 0.05263157894736842}\n"
          ],
          "name": "stdout"
        }
      ]
    },
    {
      "cell_type": "code",
      "metadata": {
        "id": "HVILAXyPB-9q",
        "colab": {
          "base_uri": "https://localhost:8080/",
          "height": 54
        },
        "outputId": "eecf8595-8449-4625-a9ad-5be144e6e113"
      },
      "source": [
        "sentence_tokens=[sent for sent in doc.sents]\n",
        "print(sentence_tokens)"
      ],
      "execution_count": null,
      "outputs": [
        {
          "output_type": "stream",
          "text": [
            "[The Hindus celebrate Janmashtami for the birth of Sri Krishna., The festival usually occurs in August., Moreover, the Hindus celebrate this festival in the Ashtami of Krishna Paksha., Moreover, Lord Krishna is the most powerful incarnation of Lord Vishnu., It is a joyful festival for the Hindus., Furthermore, the Hindus perform different rituals to please Lord Krishna., This is one of the most joyous celebrations for the Hindus., Lord Krishna Lord Krishna was born on the 8th day of Dark Fortnight in the month of Bhadon., Bhadon is a month in the Hindu calendar., Moreover, he was born around 5,200 years ago approximately., Because he was one of the most powerful Gods., He was born for a special purpose on Earth., Lord Krishna was born to free the world from evil.  , As a result, he played an important role in the book of Mahabharata., Also, Lord Krishna preached about good karma and the theory of Bhakti.  , Lord Krishna was born in a prison., He was in the clutches if Kansa., But his father Vasudev gave him to his friend Nand to save him., Because he knew that Kansa was evil-minded., Furthermore after getting saved the upbringing of Sri Krishna was in a Gokul family., Sri Krishna after some time became strong., As a result, he was able to kill Kansa.  , When I was a child I used to watch many shows on Sri Krishna., As a result, I know many things about him., First of all, Sri Krishna was very fond of eating Makhan., Because of that he always used to steal it from his mothers’ kitchen., Therefore his name was ‘Natkahat Nand Lal’., Sri Krishna was dark-colored., So he was always worried about his color., Moreover, Sri Krishna had a friend named Radha., Radha was of great importance to Krishna., So he always spent time with her., Radha was very beautiful and fair, so Lord Krishna always feels color complex.  , Get the huge list of more than 500 Essay Topics and Ideas  , How is Janmashtami Celebrated?, People celebrate Janmashtami in mid-night., Because Lord Krishna was born in the dark., Moreover, people have a special way of celebrating the festival., Since Sri Krishna was fond of eating Makhan people play this sport., The sport is, they tie an earthen pot(matki)., The judge of the game ties the matki really high from the ground., Furthermore, a person fills Makhan in the matki., Also, what people do is they build a human pyramid to break the matki., Since the matki is too high they have to build a tall pyramid., As a result, many people have to take part in sport., Moreover, there are other teams too who stop them from breaking the matki., Equal chances are there for both the teams., Each team gets a chance for a particular time period., If the team is not able to do it in time then the other team tries it., This is an interesting sport many people gather to watch this sport.  , Furthermore, the celebration is also done in houses., People decorate their houses from outside with lights., Moreover, the temples are full of people., They perform various rituals inside the temple., As a result, we hear the sound of bells and mantras the whole day.]\n"
          ],
          "name": "stdout"
        }
      ]
    },
    {
      "cell_type": "code",
      "metadata": {
        "id": "UBp4dP4eChMk"
      },
      "source": [
        "#these are the sentences"
      ],
      "execution_count": null,
      "outputs": []
    },
    {
      "cell_type": "code",
      "metadata": {
        "id": "443XY6wXCpk0"
      },
      "source": [
        "sentence_scores={}\n",
        "for sent in sentence_tokens:\n",
        "  for word in sent:\n",
        "    if word.text.lower() in word_frequencies.keys():\n",
        "      if sent not in sentence_scores.keys():\n",
        "        sentence_scores[sent]=word_frequencies[word.text.lower()]\n",
        "      else:\n",
        "        sentence_scores[sent]+=word_frequencies[word.text.lower()]\n"
      ],
      "execution_count": null,
      "outputs": []
    },
    {
      "cell_type": "code",
      "metadata": {
        "id": "zP5taHMUFhe7",
        "colab": {
          "base_uri": "https://localhost:8080/",
          "height": 952
        },
        "outputId": "2184c0ff-89f2-4c42-8e77-518fe54e0eda"
      },
      "source": [
        "sentence_scores"
      ],
      "execution_count": null,
      "outputs": [
        {
          "output_type": "execute_result",
          "data": {
            "text/plain": [
              "{The Hindus celebrate Janmashtami for the birth of Sri Krishna.: 0.21052631578947367,\n",
              " The festival usually occurs in August.: 0.3157894736842105,\n",
              " Moreover, the Hindus celebrate this festival in the Ashtami of Krishna Paksha.: 0.3684210526315789,\n",
              " Moreover, Lord Krishna is the most powerful incarnation of Lord Vishnu.: 0.15789473684210525,\n",
              " It is a joyful festival for the Hindus.: 0.2631578947368421,\n",
              " Furthermore, the Hindus perform different rituals to please Lord Krishna.: 0.2631578947368421,\n",
              " This is one of the most joyous celebrations for the Hindus.: 0.10526315789473684,\n",
              " Lord Krishna Lord Krishna was born on the 8th day of Dark Fortnight in the month of Bhadon.: 0.6842105263157895,\n",
              " Bhadon is a month in the Hindu calendar.: 0.15789473684210525,\n",
              " Moreover, he was born around 5,200 years ago approximately.: 0.5263157894736842,\n",
              " Because he was one of the most powerful Gods.: 0.10526315789473684,\n",
              " He was born for a special purpose on Earth.: 0.47368421052631576,\n",
              " Lord Krishna was born to free the world from evil.  : 0.8421052631578947,\n",
              " As a result, he played an important role in the book of Mahabharata.: 0.47368421052631576,\n",
              " Also, Lord Krishna preached about good karma and the theory of Bhakti.  : 0.5263157894736842,\n",
              " Lord Krishna was born in a prison.: 0.3684210526315789,\n",
              " He was in the clutches if Kansa.: 0.05263157894736842,\n",
              " But his father Vasudev gave him to his friend Nand to save him.: 0.2631578947368421,\n",
              " Because he knew that Kansa was evil-minded.: 0.21052631578947367,\n",
              " Furthermore after getting saved the upbringing of Sri Krishna was in a Gokul family.: 0.21052631578947367,\n",
              " Sri Krishna after some time became strong.: 0.2631578947368421,\n",
              " As a result, he was able to kill Kansa.  : 0.7368421052631579,\n",
              " When I was a child I used to watch many shows on Sri Krishna.: 0.21052631578947367,\n",
              " As a result, I know many things about him.: 0.3684210526315789,\n",
              " First of all, Sri Krishna was very fond of eating Makhan.: 0.21052631578947367,\n",
              " Because of that he always used to steal it from his mothers’ kitchen.: 0.2631578947368421,\n",
              " Therefore his name was ‘Natkahat Nand Lal’.: 0.15789473684210525,\n",
              " Sri Krishna was dark-colored.: 0.15789473684210525,\n",
              " So he was always worried about his color.: 0.15789473684210525,\n",
              " Moreover, Sri Krishna had a friend named Radha.: 0.15789473684210525,\n",
              " Radha was of great importance to Krishna.: 0.10526315789473684,\n",
              " So he always spent time with her.: 0.2631578947368421,\n",
              " Radha was very beautiful and fair: 0.10526315789473684,\n",
              " so Lord Krishna always feels color complex.  : 0.5263157894736842,\n",
              " Get the huge list of more than 500 Essay Topics and Ideas  : 0.47368421052631576,\n",
              " People celebrate Janmashtami in mid-night.: 0.5789473684210527,\n",
              " Because Lord Krishna was born in the dark.: 0.42105263157894735,\n",
              " Moreover, people have a special way of celebrating the festival.: 0.7368421052631579,\n",
              " Since Sri Krishna was fond of eating Makhan people play this sport.: 0.8421052631578947,\n",
              " The sport is, they tie an earthen pot(matki).: 0.42105263157894735,\n",
              " The judge of the game ties the matki really high from the ground.: 0.5789473684210527,\n",
              " Furthermore, a person fills Makhan in the matki.: 0.3684210526315789,\n",
              " Also, what people do is they build a human pyramid to break the matki.: 0.894736842105263,\n",
              " Since the matki is too high they have to build a tall pyramid.: 0.631578947368421,\n",
              " As a result, many people have to take part in sport.: 0.8421052631578947,\n",
              " Moreover, there are other teams too who stop them from breaking the matki.: 0.47368421052631576,\n",
              " Equal chances are there for both the teams.: 0.15789473684210525,\n",
              " Each team gets a chance for a particular time period.: 0.5789473684210527,\n",
              " If the team is not able to do it in time then the other team tries it.: 0.6842105263157894,\n",
              " This is an interesting sport many people gather to watch this sport.  : 1.3684210526315788,\n",
              " Furthermore, the celebration is also done in houses.: 0.15789473684210525,\n",
              " People decorate their houses from outside with lights.: 0.5789473684210527,\n",
              " Moreover, the temples are full of people.: 0.3684210526315789,\n",
              " They perform various rituals inside the temple.: 0.3157894736842105,\n",
              " As a result, we hear the sound of bells and mantras the whole day.: 0.5789473684210527}"
            ]
          },
          "metadata": {
            "tags": []
          },
          "execution_count": 28
        }
      ]
    },
    {
      "cell_type": "code",
      "metadata": {
        "id": "BxX4IuSBFr_M"
      },
      "source": [
        "#sentence score is present for each of the sentence"
      ],
      "execution_count": null,
      "outputs": []
    },
    {
      "cell_type": "code",
      "metadata": {
        "id": "OJ0wHnSKF627"
      },
      "source": [
        "from heapq import nlargest"
      ],
      "execution_count": null,
      "outputs": []
    },
    {
      "cell_type": "code",
      "metadata": {
        "id": "TVAs7UA4GfEo"
      },
      "source": [
        "select_length=int(len(sentence_tokens)*0.3)"
      ],
      "execution_count": null,
      "outputs": []
    },
    {
      "cell_type": "code",
      "metadata": {
        "id": "WY2BWdhwHCvx",
        "colab": {
          "base_uri": "https://localhost:8080/",
          "height": 34
        },
        "outputId": "8de5932f-218d-4e32-e09a-45cb1d1416f6"
      },
      "source": [
        "select_length"
      ],
      "execution_count": null,
      "outputs": [
        {
          "output_type": "execute_result",
          "data": {
            "text/plain": [
              "16"
            ]
          },
          "metadata": {
            "tags": []
          },
          "execution_count": 33
        }
      ]
    },
    {
      "cell_type": "code",
      "metadata": {
        "id": "pKViI_PKHQJ-"
      },
      "source": [
        "summary= nlargest(select_length,sentence_scores,key=sentence_scores.get)"
      ],
      "execution_count": null,
      "outputs": []
    },
    {
      "cell_type": "code",
      "metadata": {
        "id": "yzl5cv83H0Jl",
        "colab": {
          "base_uri": "https://localhost:8080/",
          "height": 289
        },
        "outputId": "74636938-d1b2-401a-e726-1b1c0f4069a8"
      },
      "source": [
        "summary"
      ],
      "execution_count": null,
      "outputs": [
        {
          "output_type": "execute_result",
          "data": {
            "text/plain": [
              "[This is an interesting sport many people gather to watch this sport.  ,\n",
              " Also, what people do is they build a human pyramid to break the matki.,\n",
              " Lord Krishna was born to free the world from evil.  ,\n",
              " Since Sri Krishna was fond of eating Makhan people play this sport.,\n",
              " As a result, many people have to take part in sport.,\n",
              " As a result, he was able to kill Kansa.  ,\n",
              " Moreover, people have a special way of celebrating the festival.,\n",
              " Lord Krishna Lord Krishna was born on the 8th day of Dark Fortnight in the month of Bhadon.,\n",
              " If the team is not able to do it in time then the other team tries it.,\n",
              " Since the matki is too high they have to build a tall pyramid.,\n",
              " People celebrate Janmashtami in mid-night.,\n",
              " The judge of the game ties the matki really high from the ground.,\n",
              " Each team gets a chance for a particular time period.,\n",
              " People decorate their houses from outside with lights.,\n",
              " As a result, we hear the sound of bells and mantras the whole day.,\n",
              " Moreover, he was born around 5,200 years ago approximately.]"
            ]
          },
          "metadata": {
            "tags": []
          },
          "execution_count": 35
        }
      ]
    },
    {
      "cell_type": "code",
      "metadata": {
        "id": "nQ1Ip104H1fQ"
      },
      "source": [
        "final_summary=[word.text for word in summary]"
      ],
      "execution_count": null,
      "outputs": []
    },
    {
      "cell_type": "code",
      "metadata": {
        "id": "AOYCgXcjJLlJ"
      },
      "source": [
        "summary=''.join(final_summary)"
      ],
      "execution_count": null,
      "outputs": []
    },
    {
      "cell_type": "code",
      "metadata": {
        "id": "tM7AQMRPJZNY",
        "colab": {
          "base_uri": "https://localhost:8080/",
          "height": 54
        },
        "outputId": "c6b27558-e594-4752-ed98-5d0decc5fc42"
      },
      "source": [
        "print(summary)"
      ],
      "execution_count": null,
      "outputs": [
        {
          "output_type": "stream",
          "text": [
            "This is an interesting sport many people gather to watch this sport.  Also, what people do is they build a human pyramid to break the matki.Lord Krishna was born to free the world from evil.  Since Sri Krishna was fond of eating Makhan people play this sport.As a result, many people have to take part in sport.As a result, he was able to kill Kansa.  Moreover, people have a special way of celebrating the festival.Lord Krishna Lord Krishna was born on the 8th day of Dark Fortnight in the month of Bhadon.If the team is not able to do it in time then the other team tries it.Since the matki is too high they have to build a tall pyramid.People celebrate Janmashtami in mid-night.The judge of the game ties the matki really high from the ground.Each team gets a chance for a particular time period.People decorate their houses from outside with lights.As a result, we hear the sound of bells and mantras the whole day.Moreover, he was born around 5,200 years ago approximately.\n"
          ],
          "name": "stdout"
        }
      ]
    },
    {
      "cell_type": "code",
      "metadata": {
        "id": "Yzn5AVJOJgmE",
        "colab": {
          "base_uri": "https://localhost:8080/",
          "height": 137
        },
        "outputId": "67582fab-47fb-4224-bd44-ac35db9162fd"
      },
      "source": [
        "summary"
      ],
      "execution_count": null,
      "outputs": [
        {
          "output_type": "execute_result",
          "data": {
            "application/vnd.google.colaboratory.intrinsic+json": {
              "type": "string"
            },
            "text/plain": [
              "'This is an interesting sport many people gather to watch this sport.  Also, what people do is they build a human pyramid to break the matki.Lord Krishna was born to free the world from evil.  Since Sri Krishna was fond of eating Makhan people play this sport.As a result, many people have to take part in sport.As a result, he was able to kill Kansa.  Moreover, people have a special way of celebrating the festival.Lord Krishna Lord Krishna was born on the 8th day of Dark Fortnight in the month of Bhadon.If the team is not able to do it in time then the other team tries it.Since the matki is too high they have to build a tall pyramid.People celebrate Janmashtami in mid-night.The judge of the game ties the matki really high from the ground.Each team gets a chance for a particular time period.People decorate their houses from outside with lights.As a result, we hear the sound of bells and mantras the whole day.Moreover, he was born around 5,200 years ago approximately.'"
            ]
          },
          "metadata": {
            "tags": []
          },
          "execution_count": 39
        }
      ]
    },
    {
      "cell_type": "code",
      "metadata": {
        "id": "OVcGlLznJrG-",
        "colab": {
          "base_uri": "https://localhost:8080/",
          "height": 358
        },
        "outputId": "a1331825-3573-490e-f5ef-f23198dfe732"
      },
      "source": [
        "text"
      ],
      "execution_count": null,
      "outputs": [
        {
          "output_type": "execute_result",
          "data": {
            "application/vnd.google.colaboratory.intrinsic+json": {
              "type": "string"
            },
            "text/plain": [
              "'The Hindus celebrate Janmashtami for the birth of Sri Krishna. The festival usually occurs in August. Moreover, the Hindus celebrate this festival in the Ashtami of Krishna Paksha. Moreover, Lord Krishna is the most powerful incarnation of Lord Vishnu. It is a joyful festival for the Hindus. Furthermore, the Hindus perform different rituals to please Lord Krishna. This is one of the most joyous celebrations for the Hindus.Lord Krishna Lord Krishna was born on the 8th day of Dark Fortnight in the month of Bhadon. Bhadon is a month in the Hindu calendar. Moreover, he was born around 5,200 years ago approximately. Because he was one of the most powerful Gods. He was born for a special purpose on Earth. Lord Krishna was born to free the world from evil.  As a result, he played an important role in the book of Mahabharata. Also, Lord Krishna preached about good karma and the theory of Bhakti.  Lord Krishna was born in a prison. He was in the clutches if Kansa. But his father Vasudev gave him to his friend Nand to save him. Because he knew that Kansa was evil-minded. Furthermore after getting saved the upbringing of Sri Krishna was in a Gokul family. Sri Krishna after some time became strong. As a result, he was able to kill Kansa.  When I was a child I used to watch many shows on Sri Krishna. As a result, I know many things about him. First of all, Sri Krishna was very fond of eating Makhan. Because of that he always used to steal it from his mothers’ kitchen. Therefore his name was ‘Natkahat Nand Lal’. Sri Krishna was dark-colored. So he was always worried about his color. Moreover, Sri Krishna had a friend named Radha. Radha was of great importance to Krishna. So he always spent time with her. Radha was very beautiful and fair so Lord Krishna always feels color complex.  Get the huge list of more than 500 Essay Topics and Ideas  How is Janmashtami Celebrated? People celebrate Janmashtami in mid-night. Because Lord Krishna was born in the dark. Moreover, people have a special way of celebrating the festival. Since Sri Krishna was fond of eating Makhan people play this sport.The sport is, they tie an earthen pot(matki). The judge of the game ties the matki really high from the ground. Furthermore, a person fills Makhan in the matki. Also, what people do is they build a human pyramid to break the matki. Since the matki is too high they have to build a tall pyramid. As a result, many people have to take part in sport. Moreover, there are other teams too who stop them from breaking the matki. Equal chances are there for both the teams. Each team gets a chance for a particular time period. If the team is not able to do it in time then the other team tries it. This is an interesting sport many people gather to watch this sport.  Furthermore, the celebration is also done in houses. People decorate their houses from outside with lights. Moreover, the temples are full of people. They perform various rituals inside the temple. As a result, we hear the sound of bells and mantras the whole day.'"
            ]
          },
          "metadata": {
            "tags": []
          },
          "execution_count": 40
        }
      ]
    },
    {
      "cell_type": "code",
      "metadata": {
        "id": "Mc9FWWnQJsmI",
        "colab": {
          "base_uri": "https://localhost:8080/",
          "height": 34
        },
        "outputId": "bf3156db-eb68-4478-bc05-9af7cb78eb44"
      },
      "source": [
        "len(text)"
      ],
      "execution_count": null,
      "outputs": [
        {
          "output_type": "execute_result",
          "data": {
            "text/plain": [
              "3033"
            ]
          },
          "metadata": {
            "tags": []
          },
          "execution_count": 41
        }
      ]
    },
    {
      "cell_type": "code",
      "metadata": {
        "id": "XVRrHduOJ74D",
        "colab": {
          "base_uri": "https://localhost:8080/",
          "height": 34
        },
        "outputId": "cd5fa0b8-954e-475d-e581-868deb87e551"
      },
      "source": [
        "len(summary)"
      ],
      "execution_count": null,
      "outputs": [
        {
          "output_type": "execute_result",
          "data": {
            "text/plain": [
              "978"
            ]
          },
          "metadata": {
            "tags": []
          },
          "execution_count": 42
        }
      ]
    },
    {
      "cell_type": "code",
      "metadata": {
        "id": "pskHOB_QJ-my"
      },
      "source": [],
      "execution_count": null,
      "outputs": []
    }
  ]
}